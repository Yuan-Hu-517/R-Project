{
 "cells": [
  {
   "cell_type": "markdown",
   "metadata": {},
   "source": [
    "# Salary Class Prediction"
   ]
  },
  {
   "cell_type": "markdown",
   "metadata": {},
   "source": [
    "Logistic Regression Project\n",
    "UCI Adult Dataset"
   ]
  },
  {
   "cell_type": "code",
   "execution_count": 281,
   "metadata": {},
   "outputs": [],
   "source": [
    "library(dplyr)\n",
    "library(ggplot2)\n",
    "library(Amelia)\n",
    "library(caTools)"
   ]
  },
  {
   "cell_type": "code",
   "execution_count": 282,
   "metadata": {
    "collapsed": true
   },
   "outputs": [],
   "source": [
    "adult = read.csv('adult_sal.csv')"
   ]
  },
  {
   "cell_type": "code",
   "execution_count": 283,
   "metadata": {
    "scrolled": true
   },
   "outputs": [
    {
     "data": {
      "text/html": [
       "<table>\n",
       "<thead><tr><th scope=col>X</th><th scope=col>age</th><th scope=col>type_employer</th><th scope=col>fnlwgt</th><th scope=col>education</th><th scope=col>education_num</th><th scope=col>marital</th><th scope=col>occupation</th><th scope=col>relationship</th><th scope=col>race</th><th scope=col>sex</th><th scope=col>capital_gain</th><th scope=col>capital_loss</th><th scope=col>hr_per_week</th><th scope=col>country</th><th scope=col>income</th></tr></thead>\n",
       "<tbody>\n",
       "\t<tr><td>1                                                         </td><td>39                                                        </td><td><span style=white-space:pre-wrap>State-gov       </span>  </td><td> 77516                                                    </td><td>Bachelors                                                 </td><td>13                                                        </td><td><span style=white-space:pre-wrap>Never-married     </span></td><td><span style=white-space:pre-wrap>Adm-clerical     </span> </td><td>Not-in-family                                             </td><td>White                                                     </td><td><span style=white-space:pre-wrap>Male  </span>            </td><td>2174                                                      </td><td>0                                                         </td><td>40                                                        </td><td>United-States                                             </td><td>&lt;=50K                                                  </td></tr>\n",
       "\t<tr><td>2                                                        </td><td>50                                                       </td><td>Self-emp-not-inc                                         </td><td> 83311                                                   </td><td>Bachelors                                                </td><td>13                                                       </td><td>Married-civ-spouse                                       </td><td><span style=white-space:pre-wrap>Exec-managerial  </span></td><td><span style=white-space:pre-wrap>Husband      </span>    </td><td>White                                                    </td><td><span style=white-space:pre-wrap>Male  </span>           </td><td><span style=white-space:pre-wrap>   0</span>             </td><td>0                                                        </td><td>13                                                       </td><td>United-States                                            </td><td>&lt;=50K                                                 </td></tr>\n",
       "\t<tr><td>3                                                         </td><td>38                                                        </td><td><span style=white-space:pre-wrap>Private         </span>  </td><td>215646                                                    </td><td><span style=white-space:pre-wrap>HS-grad  </span>         </td><td> 9                                                        </td><td><span style=white-space:pre-wrap>Divorced          </span></td><td>Handlers-cleaners                                         </td><td>Not-in-family                                             </td><td>White                                                     </td><td><span style=white-space:pre-wrap>Male  </span>            </td><td><span style=white-space:pre-wrap>   0</span>              </td><td>0                                                         </td><td>40                                                        </td><td>United-States                                             </td><td>&lt;=50K                                                  </td></tr>\n",
       "\t<tr><td>4                                                       </td><td>53                                                      </td><td><span style=white-space:pre-wrap>Private         </span></td><td>234721                                                  </td><td><span style=white-space:pre-wrap>11th     </span>       </td><td> 7                                                      </td><td>Married-civ-spouse                                      </td><td>Handlers-cleaners                                       </td><td><span style=white-space:pre-wrap>Husband      </span>   </td><td>Black                                                   </td><td><span style=white-space:pre-wrap>Male  </span>          </td><td><span style=white-space:pre-wrap>   0</span>            </td><td>0                                                       </td><td>40                                                      </td><td>United-States                                           </td><td>&lt;=50K                                                </td></tr>\n",
       "\t<tr><td>5                                                        </td><td>28                                                       </td><td><span style=white-space:pre-wrap>Private         </span> </td><td>338409                                                   </td><td>Bachelors                                                </td><td>13                                                       </td><td>Married-civ-spouse                                       </td><td><span style=white-space:pre-wrap>Prof-specialty   </span></td><td><span style=white-space:pre-wrap>Wife         </span>    </td><td>Black                                                    </td><td>Female                                                   </td><td><span style=white-space:pre-wrap>   0</span>             </td><td>0                                                        </td><td>40                                                       </td><td><span style=white-space:pre-wrap>Cuba         </span>    </td><td>&lt;=50K                                                 </td></tr>\n",
       "\t<tr><td>6                                                        </td><td>37                                                       </td><td><span style=white-space:pre-wrap>Private         </span> </td><td>284582                                                   </td><td><span style=white-space:pre-wrap>Masters  </span>        </td><td>14                                                       </td><td>Married-civ-spouse                                       </td><td><span style=white-space:pre-wrap>Exec-managerial  </span></td><td><span style=white-space:pre-wrap>Wife         </span>    </td><td>White                                                    </td><td>Female                                                   </td><td><span style=white-space:pre-wrap>   0</span>             </td><td>0                                                        </td><td>40                                                       </td><td>United-States                                            </td><td>&lt;=50K                                                 </td></tr>\n",
       "</tbody>\n",
       "</table>\n"
      ],
      "text/latex": [
       "\\begin{tabular}{r|llllllllllllllll}\n",
       " X & age & type\\_employer & fnlwgt & education & education\\_num & marital & occupation & relationship & race & sex & capital\\_gain & capital\\_loss & hr\\_per\\_week & country & income\\\\\n",
       "\\hline\n",
       "\t 1                  & 39                 & State-gov          &  77516             & Bachelors          & 13                 & Never-married      & Adm-clerical       & Not-in-family      & White              & Male               & 2174               & 0                  & 40                 & United-States      & <=50K             \\\\\n",
       "\t 2                  & 50                 & Self-emp-not-inc   &  83311             & Bachelors          & 13                 & Married-civ-spouse & Exec-managerial    & Husband            & White              & Male               &    0               & 0                  & 13                 & United-States      & <=50K             \\\\\n",
       "\t 3                  & 38                 & Private            & 215646             & HS-grad            &  9                 & Divorced           & Handlers-cleaners  & Not-in-family      & White              & Male               &    0               & 0                  & 40                 & United-States      & <=50K             \\\\\n",
       "\t 4                  & 53                 & Private            & 234721             & 11th               &  7                 & Married-civ-spouse & Handlers-cleaners  & Husband            & Black              & Male               &    0               & 0                  & 40                 & United-States      & <=50K             \\\\\n",
       "\t 5                  & 28                 & Private            & 338409             & Bachelors          & 13                 & Married-civ-spouse & Prof-specialty     & Wife               & Black              & Female             &    0               & 0                  & 40                 & Cuba               & <=50K             \\\\\n",
       "\t 6                  & 37                 & Private            & 284582             & Masters            & 14                 & Married-civ-spouse & Exec-managerial    & Wife               & White              & Female             &    0               & 0                  & 40                 & United-States      & <=50K             \\\\\n",
       "\\end{tabular}\n"
      ],
      "text/markdown": [
       "\n",
       "X | age | type_employer | fnlwgt | education | education_num | marital | occupation | relationship | race | sex | capital_gain | capital_loss | hr_per_week | country | income | \n",
       "|---|---|---|---|---|---|\n",
       "| 1                  | 39                 | State-gov          |  77516             | Bachelors          | 13                 | Never-married      | Adm-clerical       | Not-in-family      | White              | Male               | 2174               | 0                  | 40                 | United-States      | <=50K              | \n",
       "| 2                  | 50                 | Self-emp-not-inc   |  83311             | Bachelors          | 13                 | Married-civ-spouse | Exec-managerial    | Husband            | White              | Male               |    0               | 0                  | 13                 | United-States      | <=50K              | \n",
       "| 3                  | 38                 | Private            | 215646             | HS-grad            |  9                 | Divorced           | Handlers-cleaners  | Not-in-family      | White              | Male               |    0               | 0                  | 40                 | United-States      | <=50K              | \n",
       "| 4                  | 53                 | Private            | 234721             | 11th               |  7                 | Married-civ-spouse | Handlers-cleaners  | Husband            | Black              | Male               |    0               | 0                  | 40                 | United-States      | <=50K              | \n",
       "| 5                  | 28                 | Private            | 338409             | Bachelors          | 13                 | Married-civ-spouse | Prof-specialty     | Wife               | Black              | Female             |    0               | 0                  | 40                 | Cuba               | <=50K              | \n",
       "| 6                  | 37                 | Private            | 284582             | Masters            | 14                 | Married-civ-spouse | Exec-managerial    | Wife               | White              | Female             |    0               | 0                  | 40                 | United-States      | <=50K              | \n",
       "\n",
       "\n"
      ],
      "text/plain": [
       "  X age type_employer    fnlwgt education education_num marital           \n",
       "1 1 39  State-gov         77516 Bachelors 13            Never-married     \n",
       "2 2 50  Self-emp-not-inc  83311 Bachelors 13            Married-civ-spouse\n",
       "3 3 38  Private          215646 HS-grad    9            Divorced          \n",
       "4 4 53  Private          234721 11th       7            Married-civ-spouse\n",
       "5 5 28  Private          338409 Bachelors 13            Married-civ-spouse\n",
       "6 6 37  Private          284582 Masters   14            Married-civ-spouse\n",
       "  occupation        relationship  race  sex    capital_gain capital_loss\n",
       "1 Adm-clerical      Not-in-family White Male   2174         0           \n",
       "2 Exec-managerial   Husband       White Male      0         0           \n",
       "3 Handlers-cleaners Not-in-family White Male      0         0           \n",
       "4 Handlers-cleaners Husband       Black Male      0         0           \n",
       "5 Prof-specialty    Wife          Black Female    0         0           \n",
       "6 Exec-managerial   Wife          White Female    0         0           \n",
       "  hr_per_week country       income\n",
       "1 40          United-States <=50K \n",
       "2 13          United-States <=50K \n",
       "3 40          United-States <=50K \n",
       "4 40          United-States <=50K \n",
       "5 40          Cuba          <=50K \n",
       "6 40          United-States <=50K "
      ]
     },
     "metadata": {},
     "output_type": "display_data"
    }
   ],
   "source": [
    "head(adult)"
   ]
  },
  {
   "cell_type": "code",
   "execution_count": 284,
   "metadata": {},
   "outputs": [],
   "source": [
    "adult = select(adult,-X)"
   ]
  },
  {
   "cell_type": "code",
   "execution_count": 285,
   "metadata": {},
   "outputs": [
    {
     "name": "stdout",
     "output_type": "stream",
     "text": [
      "'data.frame':\t32561 obs. of  15 variables:\n",
      " $ age          : int  39 50 38 53 28 37 49 52 31 42 ...\n",
      " $ type_employer: Factor w/ 9 levels \"?\",\"Federal-gov\",..: 8 7 5 5 5 5 5 7 5 5 ...\n",
      " $ fnlwgt       : int  77516 83311 215646 234721 338409 284582 160187 209642 45781 159449 ...\n",
      " $ education    : Factor w/ 16 levels \"10th\",\"11th\",..: 10 10 12 2 10 13 7 12 13 10 ...\n",
      " $ education_num: int  13 13 9 7 13 14 5 9 14 13 ...\n",
      " $ marital      : Factor w/ 7 levels \"Divorced\",\"Married-AF-spouse\",..: 5 3 1 3 3 3 4 3 5 3 ...\n",
      " $ occupation   : Factor w/ 15 levels \"?\",\"Adm-clerical\",..: 2 5 7 7 11 5 9 5 11 5 ...\n",
      " $ relationship : Factor w/ 6 levels \"Husband\",\"Not-in-family\",..: 2 1 2 1 6 6 2 1 2 1 ...\n",
      " $ race         : Factor w/ 5 levels \"Amer-Indian-Eskimo\",..: 5 5 5 3 3 5 3 5 5 5 ...\n",
      " $ sex          : Factor w/ 2 levels \"Female\",\"Male\": 2 2 2 2 1 1 1 2 1 2 ...\n",
      " $ capital_gain : int  2174 0 0 0 0 0 0 0 14084 5178 ...\n",
      " $ capital_loss : int  0 0 0 0 0 0 0 0 0 0 ...\n",
      " $ hr_per_week  : int  40 13 40 40 40 40 16 45 50 40 ...\n",
      " $ country      : Factor w/ 42 levels \"?\",\"Cambodia\",..: 40 40 40 40 6 40 24 40 40 40 ...\n",
      " $ income       : Factor w/ 2 levels \"<=50K\",\">50K\": 1 1 1 1 1 1 1 2 2 2 ...\n"
     ]
    }
   ],
   "source": [
    "str(adult)"
   ]
  },
  {
   "cell_type": "code",
   "execution_count": 286,
   "metadata": {},
   "outputs": [
    {
     "data": {
      "text/plain": [
       "      age                 type_employer       fnlwgt       \n",
       " Min.   :17.00   Private         :22696   Min.   :  12285  \n",
       " 1st Qu.:28.00   Self-emp-not-inc: 2541   1st Qu.: 117827  \n",
       " Median :37.00   Local-gov       : 2093   Median : 178356  \n",
       " Mean   :38.58   ?               : 1836   Mean   : 189778  \n",
       " 3rd Qu.:48.00   State-gov       : 1298   3rd Qu.: 237051  \n",
       " Max.   :90.00   Self-emp-inc    : 1116   Max.   :1484705  \n",
       "                 (Other)         :  981                    \n",
       "        education     education_num                    marital     \n",
       " HS-grad     :10501   Min.   : 1.00   Divorced             : 4443  \n",
       " Some-college: 7291   1st Qu.: 9.00   Married-AF-spouse    :   23  \n",
       " Bachelors   : 5355   Median :10.00   Married-civ-spouse   :14976  \n",
       " Masters     : 1723   Mean   :10.08   Married-spouse-absent:  418  \n",
       " Assoc-voc   : 1382   3rd Qu.:12.00   Never-married        :10683  \n",
       " 11th        : 1175   Max.   :16.00   Separated            : 1025  \n",
       " (Other)     : 5134                   Widowed              :  993  \n",
       "           occupation           relationship                   race      \n",
       " Prof-specialty :4140   Husband       :13193   Amer-Indian-Eskimo:  311  \n",
       " Craft-repair   :4099   Not-in-family : 8305   Asian-Pac-Islander: 1039  \n",
       " Exec-managerial:4066   Other-relative:  981   Black             : 3124  \n",
       " Adm-clerical   :3770   Own-child     : 5068   Other             :  271  \n",
       " Sales          :3650   Unmarried     : 3446   White             :27816  \n",
       " Other-service  :3295   Wife          : 1568                             \n",
       " (Other)        :9541                                                    \n",
       "     sex         capital_gain    capital_loss     hr_per_week   \n",
       " Female:10771   Min.   :    0   Min.   :   0.0   Min.   : 1.00  \n",
       " Male  :21790   1st Qu.:    0   1st Qu.:   0.0   1st Qu.:40.00  \n",
       "                Median :    0   Median :   0.0   Median :40.00  \n",
       "                Mean   : 1078   Mean   :  87.3   Mean   :40.44  \n",
       "                3rd Qu.:    0   3rd Qu.:   0.0   3rd Qu.:45.00  \n",
       "                Max.   :99999   Max.   :4356.0   Max.   :99.00  \n",
       "                                                                \n",
       "          country        income     \n",
       " United-States:29170   <=50K:24720  \n",
       " Mexico       :  643   >50K : 7841  \n",
       " ?            :  583                \n",
       " Philippines  :  198                \n",
       " Germany      :  137                \n",
       " Canada       :  121                \n",
       " (Other)      : 1709                "
      ]
     },
     "metadata": {},
     "output_type": "display_data"
    }
   ],
   "source": [
    "summary(adult)"
   ]
  },
  {
   "cell_type": "markdown",
   "metadata": {},
   "source": [
    "## Data Cleaning"
   ]
  },
  {
   "cell_type": "markdown",
   "metadata": {},
   "source": [
    "** Reducing factors for categorical variables. **"
   ]
  },
  {
   "cell_type": "markdown",
   "metadata": {},
   "source": [
    "### Combine Employer Type"
   ]
  },
  {
   "cell_type": "code",
   "execution_count": 287,
   "metadata": {
    "scrolled": false
   },
   "outputs": [
    {
     "data": {
      "text/plain": [
       "\n",
       "               ?      Federal-gov        Local-gov     Never-worked \n",
       "            1836              960             2093                7 \n",
       "         Private     Self-emp-inc Self-emp-not-inc        State-gov \n",
       "           22696             1116             2541             1298 \n",
       "     Without-pay \n",
       "              14 "
      ]
     },
     "metadata": {},
     "output_type": "display_data"
    }
   ],
   "source": [
    "table(adult$type_employer)"
   ]
  },
  {
   "cell_type": "code",
   "execution_count": 288,
   "metadata": {
    "collapsed": true
   },
   "outputs": [],
   "source": [
    "unemp = function(job){\n",
    "    job = as.character(job)\n",
    "    if(job == 'Never-worked' | job == 'Without-pay'){\n",
    "        return ('Unemployed')\n",
    "    }else \n",
    "        return(job)\n",
    "}"
   ]
  },
  {
   "cell_type": "code",
   "execution_count": 289,
   "metadata": {
    "collapsed": true
   },
   "outputs": [],
   "source": [
    "adult$type_employer = sapply(adult$type_employer, unemp)"
   ]
  },
  {
   "cell_type": "code",
   "execution_count": 290,
   "metadata": {},
   "outputs": [
    {
     "data": {
      "text/plain": [
       "\n",
       "               ?      Federal-gov        Local-gov          Private \n",
       "            1836              960             2093            22696 \n",
       "    Self-emp-inc Self-emp-not-inc        State-gov       Unemployed \n",
       "            1116             2541             1298               21 "
      ]
     },
     "metadata": {},
     "output_type": "display_data"
    }
   ],
   "source": [
    "table(adult$type_employer)"
   ]
  },
  {
   "cell_type": "code",
   "execution_count": 291,
   "metadata": {
    "collapsed": true
   },
   "outputs": [],
   "source": [
    "group_emp <- function(job){\n",
    "    if (job=='Local-gov' | job=='State-gov'){\n",
    "        return('SL-gov')\n",
    "    }else if (job=='Self-emp-inc' | job=='Self-emp-not-inc'){\n",
    "        return('Self-emp')\n",
    "    }else{\n",
    "        return(job)\n",
    "    }\n",
    "}"
   ]
  },
  {
   "cell_type": "code",
   "execution_count": 292,
   "metadata": {
    "collapsed": true
   },
   "outputs": [],
   "source": [
    "adult$type_employer <- sapply(adult$type_employer,group_emp)"
   ]
  },
  {
   "cell_type": "code",
   "execution_count": 293,
   "metadata": {
    "scrolled": true
   },
   "outputs": [
    {
     "data": {
      "text/plain": [
       "\n",
       "          ? Federal-gov     Private    Self-emp      SL-gov  Unemployed \n",
       "       1836         960       22696        3657        3391          21 "
      ]
     },
     "metadata": {},
     "output_type": "display_data"
    }
   ],
   "source": [
    "table(adult$type_employer)"
   ]
  },
  {
   "cell_type": "markdown",
   "metadata": {},
   "source": [
    "### Combine Marital Type"
   ]
  },
  {
   "cell_type": "code",
   "execution_count": 294,
   "metadata": {},
   "outputs": [
    {
     "data": {
      "text/plain": [
       "\n",
       "             Divorced     Married-AF-spouse    Married-civ-spouse \n",
       "                 4443                    23                 14976 \n",
       "Married-spouse-absent         Never-married             Separated \n",
       "                  418                 10683                  1025 \n",
       "              Widowed \n",
       "                  993 "
      ]
     },
     "metadata": {},
     "output_type": "display_data"
    }
   ],
   "source": [
    "table(adult$marital)"
   ]
  },
  {
   "cell_type": "code",
   "execution_count": 295,
   "metadata": {
    "collapsed": true
   },
   "outputs": [],
   "source": [
    "group_marital <- function(mar){\n",
    "    mar <- as.character(mar)\n",
    "    \n",
    "    # Not-Married\n",
    "    if (mar=='Separated' | mar=='Divorced' | mar=='Widowed'){\n",
    "        return('Not-Married')\n",
    "    \n",
    "    # Never-Married   \n",
    "    }else if(mar=='Never-married'){\n",
    "        return(mar)\n",
    "    \n",
    "     #Married\n",
    "    }else{\n",
    "        return('Married')\n",
    "    }\n",
    "}"
   ]
  },
  {
   "cell_type": "code",
   "execution_count": 296,
   "metadata": {},
   "outputs": [
    {
     "data": {
      "text/plain": [
       "\n",
       "      Married Never-married   Not-Married \n",
       "        15417         10683          6461 "
      ]
     },
     "metadata": {},
     "output_type": "display_data"
    }
   ],
   "source": [
    "adult$marital <- sapply(adult$marital,group_marital)\n",
    "table(adult$marital)"
   ]
  },
  {
   "cell_type": "markdown",
   "metadata": {
    "collapsed": true
   },
   "source": [
    "### Combine Country by Continent"
   ]
  },
  {
   "cell_type": "code",
   "execution_count": 297,
   "metadata": {},
   "outputs": [
    {
     "data": {
      "text/plain": [
       "\n",
       "                         ?                   Cambodia \n",
       "                       583                         19 \n",
       "                    Canada                      China \n",
       "                       121                         75 \n",
       "                  Columbia                       Cuba \n",
       "                        59                         95 \n",
       "        Dominican-Republic                    Ecuador \n",
       "                        70                         28 \n",
       "               El-Salvador                    England \n",
       "                       106                         90 \n",
       "                    France                    Germany \n",
       "                        29                        137 \n",
       "                    Greece                  Guatemala \n",
       "                        29                         64 \n",
       "                     Haiti         Holand-Netherlands \n",
       "                        44                          1 \n",
       "                  Honduras                       Hong \n",
       "                        13                         20 \n",
       "                   Hungary                      India \n",
       "                        13                        100 \n",
       "                      Iran                    Ireland \n",
       "                        43                         24 \n",
       "                     Italy                    Jamaica \n",
       "                        73                         81 \n",
       "                     Japan                       Laos \n",
       "                        62                         18 \n",
       "                    Mexico                  Nicaragua \n",
       "                       643                         34 \n",
       "Outlying-US(Guam-USVI-etc)                       Peru \n",
       "                        14                         31 \n",
       "               Philippines                     Poland \n",
       "                       198                         60 \n",
       "                  Portugal                Puerto-Rico \n",
       "                        37                        114 \n",
       "                  Scotland                      South \n",
       "                        12                         80 \n",
       "                    Taiwan                   Thailand \n",
       "                        51                         18 \n",
       "           Trinadad&Tobago              United-States \n",
       "                        19                      29170 \n",
       "                   Vietnam                 Yugoslavia \n",
       "                        67                         16 "
      ]
     },
     "metadata": {},
     "output_type": "display_data"
    }
   ],
   "source": [
    "table(adult$country)"
   ]
  },
  {
   "cell_type": "code",
   "execution_count": 298,
   "metadata": {},
   "outputs": [
    {
     "data": {
      "text/html": [
       "<ol class=list-inline>\n",
       "\t<li>'?'</li>\n",
       "\t<li>'Cambodia'</li>\n",
       "\t<li>'Canada'</li>\n",
       "\t<li>'China'</li>\n",
       "\t<li>'Columbia'</li>\n",
       "\t<li>'Cuba'</li>\n",
       "\t<li>'Dominican-Republic'</li>\n",
       "\t<li>'Ecuador'</li>\n",
       "\t<li>'El-Salvador'</li>\n",
       "\t<li>'England'</li>\n",
       "\t<li>'France'</li>\n",
       "\t<li>'Germany'</li>\n",
       "\t<li>'Greece'</li>\n",
       "\t<li>'Guatemala'</li>\n",
       "\t<li>'Haiti'</li>\n",
       "\t<li>'Holand-Netherlands'</li>\n",
       "\t<li>'Honduras'</li>\n",
       "\t<li>'Hong'</li>\n",
       "\t<li>'Hungary'</li>\n",
       "\t<li>'India'</li>\n",
       "\t<li>'Iran'</li>\n",
       "\t<li>'Ireland'</li>\n",
       "\t<li>'Italy'</li>\n",
       "\t<li>'Jamaica'</li>\n",
       "\t<li>'Japan'</li>\n",
       "\t<li>'Laos'</li>\n",
       "\t<li>'Mexico'</li>\n",
       "\t<li>'Nicaragua'</li>\n",
       "\t<li>'Outlying-US(Guam-USVI-etc)'</li>\n",
       "\t<li>'Peru'</li>\n",
       "\t<li>'Philippines'</li>\n",
       "\t<li>'Poland'</li>\n",
       "\t<li>'Portugal'</li>\n",
       "\t<li>'Puerto-Rico'</li>\n",
       "\t<li>'Scotland'</li>\n",
       "\t<li>'South'</li>\n",
       "\t<li>'Taiwan'</li>\n",
       "\t<li>'Thailand'</li>\n",
       "\t<li>'Trinadad&amp;Tobago'</li>\n",
       "\t<li>'United-States'</li>\n",
       "\t<li>'Vietnam'</li>\n",
       "\t<li>'Yugoslavia'</li>\n",
       "</ol>\n"
      ],
      "text/latex": [
       "\\begin{enumerate*}\n",
       "\\item '?'\n",
       "\\item 'Cambodia'\n",
       "\\item 'Canada'\n",
       "\\item 'China'\n",
       "\\item 'Columbia'\n",
       "\\item 'Cuba'\n",
       "\\item 'Dominican-Republic'\n",
       "\\item 'Ecuador'\n",
       "\\item 'El-Salvador'\n",
       "\\item 'England'\n",
       "\\item 'France'\n",
       "\\item 'Germany'\n",
       "\\item 'Greece'\n",
       "\\item 'Guatemala'\n",
       "\\item 'Haiti'\n",
       "\\item 'Holand-Netherlands'\n",
       "\\item 'Honduras'\n",
       "\\item 'Hong'\n",
       "\\item 'Hungary'\n",
       "\\item 'India'\n",
       "\\item 'Iran'\n",
       "\\item 'Ireland'\n",
       "\\item 'Italy'\n",
       "\\item 'Jamaica'\n",
       "\\item 'Japan'\n",
       "\\item 'Laos'\n",
       "\\item 'Mexico'\n",
       "\\item 'Nicaragua'\n",
       "\\item 'Outlying-US(Guam-USVI-etc)'\n",
       "\\item 'Peru'\n",
       "\\item 'Philippines'\n",
       "\\item 'Poland'\n",
       "\\item 'Portugal'\n",
       "\\item 'Puerto-Rico'\n",
       "\\item 'Scotland'\n",
       "\\item 'South'\n",
       "\\item 'Taiwan'\n",
       "\\item 'Thailand'\n",
       "\\item 'Trinadad\\&Tobago'\n",
       "\\item 'United-States'\n",
       "\\item 'Vietnam'\n",
       "\\item 'Yugoslavia'\n",
       "\\end{enumerate*}\n"
      ],
      "text/markdown": [
       "1. '?'\n",
       "2. 'Cambodia'\n",
       "3. 'Canada'\n",
       "4. 'China'\n",
       "5. 'Columbia'\n",
       "6. 'Cuba'\n",
       "7. 'Dominican-Republic'\n",
       "8. 'Ecuador'\n",
       "9. 'El-Salvador'\n",
       "10. 'England'\n",
       "11. 'France'\n",
       "12. 'Germany'\n",
       "13. 'Greece'\n",
       "14. 'Guatemala'\n",
       "15. 'Haiti'\n",
       "16. 'Holand-Netherlands'\n",
       "17. 'Honduras'\n",
       "18. 'Hong'\n",
       "19. 'Hungary'\n",
       "20. 'India'\n",
       "21. 'Iran'\n",
       "22. 'Ireland'\n",
       "23. 'Italy'\n",
       "24. 'Jamaica'\n",
       "25. 'Japan'\n",
       "26. 'Laos'\n",
       "27. 'Mexico'\n",
       "28. 'Nicaragua'\n",
       "29. 'Outlying-US(Guam-USVI-etc)'\n",
       "30. 'Peru'\n",
       "31. 'Philippines'\n",
       "32. 'Poland'\n",
       "33. 'Portugal'\n",
       "34. 'Puerto-Rico'\n",
       "35. 'Scotland'\n",
       "36. 'South'\n",
       "37. 'Taiwan'\n",
       "38. 'Thailand'\n",
       "39. 'Trinadad&amp;Tobago'\n",
       "40. 'United-States'\n",
       "41. 'Vietnam'\n",
       "42. 'Yugoslavia'\n",
       "\n",
       "\n"
      ],
      "text/plain": [
       " [1] \"?\"                          \"Cambodia\"                  \n",
       " [3] \"Canada\"                     \"China\"                     \n",
       " [5] \"Columbia\"                   \"Cuba\"                      \n",
       " [7] \"Dominican-Republic\"         \"Ecuador\"                   \n",
       " [9] \"El-Salvador\"                \"England\"                   \n",
       "[11] \"France\"                     \"Germany\"                   \n",
       "[13] \"Greece\"                     \"Guatemala\"                 \n",
       "[15] \"Haiti\"                      \"Holand-Netherlands\"        \n",
       "[17] \"Honduras\"                   \"Hong\"                      \n",
       "[19] \"Hungary\"                    \"India\"                     \n",
       "[21] \"Iran\"                       \"Ireland\"                   \n",
       "[23] \"Italy\"                      \"Jamaica\"                   \n",
       "[25] \"Japan\"                      \"Laos\"                      \n",
       "[27] \"Mexico\"                     \"Nicaragua\"                 \n",
       "[29] \"Outlying-US(Guam-USVI-etc)\" \"Peru\"                      \n",
       "[31] \"Philippines\"                \"Poland\"                    \n",
       "[33] \"Portugal\"                   \"Puerto-Rico\"               \n",
       "[35] \"Scotland\"                   \"South\"                     \n",
       "[37] \"Taiwan\"                     \"Thailand\"                  \n",
       "[39] \"Trinadad&Tobago\"            \"United-States\"             \n",
       "[41] \"Vietnam\"                    \"Yugoslavia\"                "
      ]
     },
     "metadata": {},
     "output_type": "display_data"
    }
   ],
   "source": [
    "levels(adult$country)"
   ]
  },
  {
   "cell_type": "code",
   "execution_count": 299,
   "metadata": {
    "collapsed": true
   },
   "outputs": [],
   "source": [
    "Asia <- c('China','Hong','India','Iran','Cambodia','Japan', 'Laos' ,\n",
    "'Philippines' ,'Vietnam' ,'Taiwan', 'Thailand')\n",
    "\n",
    "North.America <- c('Canada','United-States','Puerto-Rico' )\n",
    "\n",
    "Europe <- c('England' ,'France', 'Germany' ,'Greece','Holand-Netherlands','Hungary',\n",
    "            'Ireland','Italy','Poland','Portugal','Scotland','Yugoslavia')\n",
    "\n",
    "Latin.and.South.America <- c('Columbia','Cuba','Dominican-Republic','Ecuador',\n",
    "                             'El-Salvador','Guatemala','Haiti','Honduras',\n",
    "                             'Mexico','Nicaragua','Outlying-US(Guam-USVI-etc)','Peru',\n",
    "                            'Jamaica','Trinadad&Tobago')\n",
    "Other <- c('South')"
   ]
  },
  {
   "cell_type": "code",
   "execution_count": 300,
   "metadata": {
    "collapsed": true
   },
   "outputs": [],
   "source": [
    "group_country <- function(ctry){\n",
    "    if (ctry %in% Asia){\n",
    "        return('Asia')\n",
    "    }else if (ctry %in% North.America){\n",
    "        return('North.America')\n",
    "    }else if (ctry %in% Europe){\n",
    "        return('Europe')\n",
    "    }else if (ctry %in% Latin.and.South.America){\n",
    "        return('Latin.and.South.America')\n",
    "    }else{\n",
    "        return('Other')      \n",
    "    }\n",
    "}"
   ]
  },
  {
   "cell_type": "code",
   "execution_count": 301,
   "metadata": {
    "collapsed": true
   },
   "outputs": [],
   "source": [
    "adult$country <- sapply(adult$country,group_country)"
   ]
  },
  {
   "cell_type": "code",
   "execution_count": 302,
   "metadata": {},
   "outputs": [
    {
     "data": {
      "text/plain": [
       "\n",
       "                   Asia                  Europe Latin.and.South.America \n",
       "                    671                     521                    1301 \n",
       "          North.America                   Other \n",
       "                  29405                     663 "
      ]
     },
     "metadata": {},
     "output_type": "display_data"
    }
   ],
   "source": [
    "table(adult$country)"
   ]
  },
  {
   "cell_type": "markdown",
   "metadata": {},
   "source": [
    "### Combine Education"
   ]
  },
  {
   "cell_type": "code",
   "execution_count": 303,
   "metadata": {},
   "outputs": [
    {
     "data": {
      "text/plain": [
       "\n",
       "        10th         11th         12th      1st-4th      5th-6th      7th-8th \n",
       "         933         1175          433          168          333          646 \n",
       "         9th   Assoc-acdm    Assoc-voc    Bachelors    Doctorate      HS-grad \n",
       "         514         1067         1382         5355          413        10501 \n",
       "     Masters    Preschool  Prof-school Some-college \n",
       "        1723           51          576         7291 "
      ]
     },
     "metadata": {},
     "output_type": "display_data"
    }
   ],
   "source": [
    "table(adult$education)"
   ]
  },
  {
   "cell_type": "code",
   "execution_count": 304,
   "metadata": {},
   "outputs": [
    {
     "data": {
      "text/html": [
       "<ol class=list-inline>\n",
       "\t<li>'10th'</li>\n",
       "\t<li>'11th'</li>\n",
       "\t<li>'12th'</li>\n",
       "\t<li>'1st-4th'</li>\n",
       "\t<li>'5th-6th'</li>\n",
       "\t<li>'7th-8th'</li>\n",
       "\t<li>'9th'</li>\n",
       "\t<li>'Assoc-acdm'</li>\n",
       "\t<li>'Assoc-voc'</li>\n",
       "\t<li>'Bachelors'</li>\n",
       "\t<li>'Doctorate'</li>\n",
       "\t<li>'HS-grad'</li>\n",
       "\t<li>'Masters'</li>\n",
       "\t<li>'Preschool'</li>\n",
       "\t<li>'Prof-school'</li>\n",
       "\t<li>'Some-college'</li>\n",
       "</ol>\n"
      ],
      "text/latex": [
       "\\begin{enumerate*}\n",
       "\\item '10th'\n",
       "\\item '11th'\n",
       "\\item '12th'\n",
       "\\item '1st-4th'\n",
       "\\item '5th-6th'\n",
       "\\item '7th-8th'\n",
       "\\item '9th'\n",
       "\\item 'Assoc-acdm'\n",
       "\\item 'Assoc-voc'\n",
       "\\item 'Bachelors'\n",
       "\\item 'Doctorate'\n",
       "\\item 'HS-grad'\n",
       "\\item 'Masters'\n",
       "\\item 'Preschool'\n",
       "\\item 'Prof-school'\n",
       "\\item 'Some-college'\n",
       "\\end{enumerate*}\n"
      ],
      "text/markdown": [
       "1. '10th'\n",
       "2. '11th'\n",
       "3. '12th'\n",
       "4. '1st-4th'\n",
       "5. '5th-6th'\n",
       "6. '7th-8th'\n",
       "7. '9th'\n",
       "8. 'Assoc-acdm'\n",
       "9. 'Assoc-voc'\n",
       "10. 'Bachelors'\n",
       "11. 'Doctorate'\n",
       "12. 'HS-grad'\n",
       "13. 'Masters'\n",
       "14. 'Preschool'\n",
       "15. 'Prof-school'\n",
       "16. 'Some-college'\n",
       "\n",
       "\n"
      ],
      "text/plain": [
       " [1] \"10th\"         \"11th\"         \"12th\"         \"1st-4th\"      \"5th-6th\"     \n",
       " [6] \"7th-8th\"      \"9th\"          \"Assoc-acdm\"   \"Assoc-voc\"    \"Bachelors\"   \n",
       "[11] \"Doctorate\"    \"HS-grad\"      \"Masters\"      \"Preschool\"    \"Prof-school\" \n",
       "[16] \"Some-college\""
      ]
     },
     "metadata": {},
     "output_type": "display_data"
    }
   ],
   "source": [
    "levels(adult$education)"
   ]
  },
  {
   "cell_type": "code",
   "execution_count": 305,
   "metadata": {
    "collapsed": true
   },
   "outputs": [],
   "source": [
    "Elementary = c('1st-4th')\n",
    "Middle = c('5th-6th','7th-8th')\n",
    "High = c('9th','10th','11th','12th','HS-grad')\n",
    "Collage = c('Assoc-acdm', 'Assoc-voc', 'Prof-school', 'Some-college')"
   ]
  },
  {
   "cell_type": "code",
   "execution_count": 306,
   "metadata": {
    "collapsed": true
   },
   "outputs": [],
   "source": [
    "group_education <- function(edu){\n",
    "    edu = as.character(edu)\n",
    "    if (edu %in% Elementary){\n",
    "        return('Elementary')\n",
    "    }else if (edu %in% Middle){\n",
    "        return('Middle School')\n",
    "    }else if (edu %in% High){\n",
    "        return('High School')\n",
    "    }else if (edu %in% Collage){\n",
    "        return('Collage')\n",
    "    }else{\n",
    "        return(edu)      \n",
    "    }\n",
    "}"
   ]
  },
  {
   "cell_type": "code",
   "execution_count": 307,
   "metadata": {
    "collapsed": true
   },
   "outputs": [],
   "source": [
    "adult$education <- sapply(adult$education,group_education)"
   ]
  },
  {
   "cell_type": "code",
   "execution_count": 308,
   "metadata": {},
   "outputs": [
    {
     "data": {
      "text/plain": [
       "\n",
       "    Bachelors       Collage     Doctorate    Elementary   High School \n",
       "         5355         10316           413           168         13556 \n",
       "      Masters Middle School     Preschool \n",
       "         1723           979            51 "
      ]
     },
     "metadata": {},
     "output_type": "display_data"
    }
   ],
   "source": [
    "table(adult$education)"
   ]
  },
  {
   "cell_type": "markdown",
   "metadata": {},
   "source": [
    "### Combine Occupation"
   ]
  },
  {
   "cell_type": "code",
   "execution_count": 309,
   "metadata": {},
   "outputs": [
    {
     "data": {
      "text/plain": [
       "\n",
       "                ?      Adm-clerical      Armed-Forces      Craft-repair \n",
       "             1843              3770                 9              4099 \n",
       "  Exec-managerial   Farming-fishing Handlers-cleaners Machine-op-inspct \n",
       "             4066               994              1370              2002 \n",
       "    Other-service   Priv-house-serv    Prof-specialty   Protective-serv \n",
       "             3295               149              4140               649 \n",
       "            Sales      Tech-support  Transport-moving \n",
       "             3650               928              1597 "
      ]
     },
     "metadata": {},
     "output_type": "display_data"
    }
   ],
   "source": [
    "table(adult$occupation)"
   ]
  },
  {
   "cell_type": "code",
   "execution_count": 310,
   "metadata": {},
   "outputs": [],
   "source": [
    "Non.tech.Service = c('Craft-repair', 'Handlers-cleaners', 'Other-service', 'Priv-house-serv', 'Protective-serv', 'Transport-moving')\n",
    "Tech.Service = c('Machine-op-inspct', 'Prof-specialty', 'Tech-support')"
   ]
  },
  {
   "cell_type": "code",
   "execution_count": 311,
   "metadata": {
    "collapsed": true
   },
   "outputs": [],
   "source": [
    "group_occupation <- function(occ){\n",
    "    occ = as.character(occ)\n",
    "    if (occ %in% Non.tech.Service){\n",
    "        return('Non-technical Service')\n",
    "    }else if (occ %in% Tech.Service){\n",
    "        return('Technical Service')\n",
    "    }else{\n",
    "        return(occ)      \n",
    "    }\n",
    "}"
   ]
  },
  {
   "cell_type": "code",
   "execution_count": 312,
   "metadata": {},
   "outputs": [],
   "source": [
    "adult$occupation <- sapply(adult$occupation,group_occupation)"
   ]
  },
  {
   "cell_type": "code",
   "execution_count": 313,
   "metadata": {},
   "outputs": [
    {
     "data": {
      "text/plain": [
       "\n",
       "                    ?          Adm-clerical          Armed-Forces \n",
       "                 1843                  3770                     9 \n",
       "      Exec-managerial       Farming-fishing Non-technical Service \n",
       "                 4066                   994                 11159 \n",
       "                Sales     Technical Service \n",
       "                 3650                  7070 "
      ]
     },
     "metadata": {},
     "output_type": "display_data"
    }
   ],
   "source": [
    "table(adult$occupation)"
   ]
  },
  {
   "cell_type": "code",
   "execution_count": 314,
   "metadata": {
    "scrolled": true
   },
   "outputs": [
    {
     "name": "stdout",
     "output_type": "stream",
     "text": [
      "'data.frame':\t32561 obs. of  15 variables:\n",
      " $ age          : int  39 50 38 53 28 37 49 52 31 42 ...\n",
      " $ type_employer: chr  \"SL-gov\" \"Self-emp\" \"Private\" \"Private\" ...\n",
      " $ fnlwgt       : int  77516 83311 215646 234721 338409 284582 160187 209642 45781 159449 ...\n",
      " $ education    : chr  \"Bachelors\" \"Bachelors\" \"High School\" \"High School\" ...\n",
      " $ education_num: int  13 13 9 7 13 14 5 9 14 13 ...\n",
      " $ marital      : chr  \"Never-married\" \"Married\" \"Not-Married\" \"Married\" ...\n",
      " $ occupation   : chr  \"Adm-clerical\" \"Exec-managerial\" \"Non-technical Service\" \"Non-technical Service\" ...\n",
      " $ relationship : Factor w/ 6 levels \"Husband\",\"Not-in-family\",..: 2 1 2 1 6 6 2 1 2 1 ...\n",
      " $ race         : Factor w/ 5 levels \"Amer-Indian-Eskimo\",..: 5 5 5 3 3 5 3 5 5 5 ...\n",
      " $ sex          : Factor w/ 2 levels \"Female\",\"Male\": 2 2 2 2 1 1 1 2 1 2 ...\n",
      " $ capital_gain : int  2174 0 0 0 0 0 0 0 14084 5178 ...\n",
      " $ capital_loss : int  0 0 0 0 0 0 0 0 0 0 ...\n",
      " $ hr_per_week  : int  40 13 40 40 40 40 16 45 50 40 ...\n",
      " $ country      : chr  \"North.America\" \"North.America\" \"North.America\" \"North.America\" ...\n",
      " $ income       : Factor w/ 2 levels \"<=50K\",\">50K\": 1 1 1 1 1 1 1 2 2 2 ...\n"
     ]
    }
   ],
   "source": [
    "str(adult)"
   ]
  },
  {
   "cell_type": "code",
   "execution_count": 315,
   "metadata": {},
   "outputs": [],
   "source": [
    "adult$type_employer <- sapply(adult$type_employer,factor)\n",
    "adult$country <- sapply(adult$country,factor)\n",
    "adult$marital <- sapply(adult$marital,factor)\n",
    "adult$education <- sapply(adult$education,factor)\n",
    "adult$occupation <- sapply(adult$occupation,factor)"
   ]
  },
  {
   "cell_type": "code",
   "execution_count": 316,
   "metadata": {},
   "outputs": [
    {
     "name": "stdout",
     "output_type": "stream",
     "text": [
      "'data.frame':\t32561 obs. of  15 variables:\n",
      " $ age          : int  39 50 38 53 28 37 49 52 31 42 ...\n",
      " $ type_employer: Factor w/ 6 levels \"SL-gov\",\"Self-emp\",..: 1 2 3 3 3 3 3 2 3 3 ...\n",
      " $ fnlwgt       : int  77516 83311 215646 234721 338409 284582 160187 209642 45781 159449 ...\n",
      " $ education    : Factor w/ 8 levels \"Bachelors\",\"High School\",..: 1 1 2 2 1 3 2 2 3 1 ...\n",
      " $ education_num: int  13 13 9 7 13 14 5 9 14 13 ...\n",
      " $ marital      : Factor w/ 3 levels \"Never-married\",..: 1 2 3 2 2 2 2 2 1 2 ...\n",
      " $ occupation   : Factor w/ 8 levels \"Adm-clerical\",..: 1 2 3 3 4 2 3 2 4 2 ...\n",
      " $ relationship : Factor w/ 6 levels \"Husband\",\"Not-in-family\",..: 2 1 2 1 6 6 2 1 2 1 ...\n",
      " $ race         : Factor w/ 5 levels \"Amer-Indian-Eskimo\",..: 5 5 5 3 3 5 3 5 5 5 ...\n",
      " $ sex          : Factor w/ 2 levels \"Female\",\"Male\": 2 2 2 2 1 1 1 2 1 2 ...\n",
      " $ capital_gain : int  2174 0 0 0 0 0 0 0 14084 5178 ...\n",
      " $ capital_loss : int  0 0 0 0 0 0 0 0 0 0 ...\n",
      " $ hr_per_week  : int  40 13 40 40 40 40 16 45 50 40 ...\n",
      " $ country      : Factor w/ 5 levels \"North.America\",..: 1 1 1 1 2 1 2 1 1 1 ...\n",
      " $ income       : Factor w/ 2 levels \"<=50K\",\">50K\": 1 1 1 1 1 1 1 2 2 2 ...\n"
     ]
    }
   ],
   "source": [
    "str(adult)"
   ]
  },
  {
   "cell_type": "markdown",
   "metadata": {},
   "source": [
    "## Missing Data"
   ]
  },
  {
   "cell_type": "code",
   "execution_count": 317,
   "metadata": {
    "collapsed": true
   },
   "outputs": [],
   "source": [
    "adult[adult == '?'] <- NA"
   ]
  },
  {
   "cell_type": "code",
   "execution_count": 318,
   "metadata": {
    "scrolled": false
   },
   "outputs": [
    {
     "data": {
      "image/png": "[encoded data removed]",
      "text/plain": [
       "Plot with title “Missingness Map”"
      ]
     },
     "metadata": {},
     "output_type": "display_data"
    }
   ],
   "source": [
    "missmap(adult, y.at = c(1), y.labels = c(''), col=c(\"yellow\", \"black\"))"
   ]
  },
  {
   "cell_type": "markdown",
   "metadata": {},
   "source": [
    "** Drop missing data **"
   ]
  },
  {
   "cell_type": "code",
   "execution_count": 319,
   "metadata": {
    "collapsed": true
   },
   "outputs": [],
   "source": [
    "adult = na.omit(adult)"
   ]
  },
  {
   "cell_type": "code",
   "execution_count": 338,
   "metadata": {},
   "outputs": [
    {
     "data": {
      "image/png": "[encoded data removed]",
      "text/plain": [
       "Plot with title “Missingness Map”"
      ]
     },
     "metadata": {},
     "output_type": "display_data"
    }
   ],
   "source": [
    "missmap(adult, y.at = c(1), y.labels = c(''), col=c(\"yellow\", \"black\"))"
   ]
  },
  {
   "cell_type": "markdown",
   "metadata": {},
   "source": [
    "## EDA"
   ]
  },
  {
   "cell_type": "code",
   "execution_count": 320,
   "metadata": {},
   "outputs": [
    {
     "data": {},
     "metadata": {},
     "output_type": "display_data"
    },
    {
     "data": {
      "image/png": "[encoded data removed]",
      "text/plain": [
       "plot without title"
      ]
     },
     "metadata": {},
     "output_type": "display_data"
    }
   ],
   "source": [
    "ggplot(adult, aes(age)) +\n",
    "    geom_histogram(aes(fill = income), color = 'black', binwidth = 1) +\n",
    "    theme_bw()"
   ]
  },
  {
   "cell_type": "code",
   "execution_count": 321,
   "metadata": {},
   "outputs": [
    {
     "name": "stderr",
     "output_type": "stream",
     "text": [
      "`stat_bin()` using `bins = 30`. Pick better value with `binwidth`.\n"
     ]
    },
    {
     "data": {},
     "metadata": {},
     "output_type": "display_data"
    },
    {
     "data": {
      "image/png": "[encoded data removed]",
      "text/plain": [
       "plot without title"
      ]
     },
     "metadata": {},
     "output_type": "display_data"
    }
   ],
   "source": [
    "ggplot(adult, aes(hr_per_week)) +\n",
    "    geom_histogram() +\n",
    "    theme_bw()"
   ]
  },
  {
   "cell_type": "code",
   "execution_count": 322,
   "metadata": {
    "collapsed": true
   },
   "outputs": [],
   "source": [
    "# names(adult)[names(adult)==\"country\"] <- \"region\"\n",
    "adult = rename(adult, region = country)"
   ]
  },
  {
   "cell_type": "code",
   "execution_count": 339,
   "metadata": {},
   "outputs": [
    {
     "data": {},
     "metadata": {},
     "output_type": "display_data"
    },
    {
     "data": {
      "image/png": "[encoded data removed]",
      "text/plain": [
       "plot without title"
      ]
     },
     "metadata": {},
     "output_type": "display_data"
    }
   ],
   "source": [
    "ggplot(adult, aes(region)) +\n",
    "    geom_bar(aes(fill = income), color = 'black') +\n",
    "    theme_bw() +\n",
    "    theme(axis.text.x = element_text(angle = 90, hjust = 1))\n"
   ]
  },
  {
   "cell_type": "markdown",
   "metadata": {},
   "source": [
    "## Logistic Regression Model"
   ]
  },
  {
   "cell_type": "code",
   "execution_count": 324,
   "metadata": {},
   "outputs": [
    {
     "name": "stdout",
     "output_type": "stream",
     "text": [
      "'data.frame':\t30718 obs. of  15 variables:\n",
      " $ age          : int  39 50 38 53 28 37 49 52 31 42 ...\n",
      " $ type_employer: Factor w/ 6 levels \"SL-gov\",\"Self-emp\",..: 1 2 3 3 3 3 3 2 3 3 ...\n",
      " $ fnlwgt       : int  77516 83311 215646 234721 338409 284582 160187 209642 45781 159449 ...\n",
      " $ education    : Factor w/ 8 levels \"Bachelors\",\"High School\",..: 1 1 2 2 1 3 2 2 3 1 ...\n",
      " $ education_num: int  13 13 9 7 13 14 5 9 14 13 ...\n",
      " $ marital      : Factor w/ 3 levels \"Never-married\",..: 1 2 3 2 2 2 2 2 1 2 ...\n",
      " $ occupation   : Factor w/ 8 levels \"Adm-clerical\",..: 1 2 3 3 4 2 3 2 4 2 ...\n",
      " $ relationship : Factor w/ 6 levels \"Husband\",\"Not-in-family\",..: 2 1 2 1 6 6 2 1 2 1 ...\n",
      " $ race         : Factor w/ 5 levels \"Amer-Indian-Eskimo\",..: 5 5 5 3 3 5 3 5 5 5 ...\n",
      " $ sex          : Factor w/ 2 levels \"Female\",\"Male\": 2 2 2 2 1 1 1 2 1 2 ...\n",
      " $ capital_gain : int  2174 0 0 0 0 0 0 0 14084 5178 ...\n",
      " $ capital_loss : int  0 0 0 0 0 0 0 0 0 0 ...\n",
      " $ hr_per_week  : int  40 13 40 40 40 40 16 45 50 40 ...\n",
      " $ region       : Factor w/ 5 levels \"North.America\",..: 1 1 1 1 2 1 2 1 1 1 ...\n",
      " $ income       : Factor w/ 2 levels \"<=50K\",\">50K\": 1 1 1 1 1 1 1 2 2 2 ...\n",
      " - attr(*, \"na.action\")=Class 'omit'  Named int [1:1843] 28 62 70 78 107 129 150 155 161 188 ...\n",
      "  .. ..- attr(*, \"names\")= chr [1:1843] \"28\" \"62\" \"70\" \"78\" ...\n"
     ]
    }
   ],
   "source": [
    "str(adult)"
   ]
  },
  {
   "cell_type": "markdown",
   "metadata": {},
   "source": [
    "### Train Test Split"
   ]
  },
  {
   "cell_type": "code",
   "execution_count": 325,
   "metadata": {
    "collapsed": true
   },
   "outputs": [],
   "source": [
    "set.seed(101)"
   ]
  },
  {
   "cell_type": "code",
   "execution_count": 326,
   "metadata": {},
   "outputs": [],
   "source": [
    "sample = sample.split(adult$income, SplitRatio = 0.7)\n",
    "train = subset(adult, sample == T)\n",
    "test = subset(adult, sample == F)"
   ]
  },
  {
   "cell_type": "markdown",
   "metadata": {},
   "source": [
    "### Train the model"
   ]
  },
  {
   "cell_type": "code",
   "execution_count": 327,
   "metadata": {},
   "outputs": [
    {
     "name": "stderr",
     "output_type": "stream",
     "text": [
      "Warning message:\n",
      "“glm.fit: fitted probabilities numerically 0 or 1 occurred”"
     ]
    }
   ],
   "source": [
    "model = glm(income ~ . , family = binomial(link = 'logit'), data = train)"
   ]
  },
  {
   "cell_type": "code",
   "execution_count": 328,
   "metadata": {},
   "outputs": [
    {
     "data": {
      "text/plain": [
       "\n",
       "Call:\n",
       "glm(formula = income ~ ., family = binomial(link = \"logit\"), \n",
       "    data = train)\n",
       "\n",
       "Deviance Residuals: \n",
       "    Min       1Q   Median       3Q      Max  \n",
       "-5.1398  -0.5293  -0.2064   0.0000   3.5986  \n",
       "\n",
       "Coefficients:\n",
       "                                  Estimate Std. Error z value Pr(>|z|)    \n",
       "(Intercept)                     -8.910e+00  4.882e-01 -18.250  < 2e-16 ***\n",
       "age                              2.589e-02  1.983e-03  13.057  < 2e-16 ***\n",
       "type_employerSelf-emp           -1.046e-01  8.615e-02  -1.214 0.224754    \n",
       "type_employerPrivate             7.655e-02  6.834e-02   1.120 0.262663    \n",
       "type_employerFederal-gov         5.953e-01  1.245e-01   4.783 1.72e-06 ***\n",
       "type_employerUnemployed         -1.382e+01  3.633e+02  -0.038 0.969654    \n",
       "fnlwgt                           5.835e-07  2.072e-07   2.817 0.004854 ** \n",
       "educationHigh School            -1.552e-01  1.162e-01  -1.336 0.181701    \n",
       "educationMasters                 6.558e-02  9.424e-02   0.696 0.486491    \n",
       "educationCollage                -3.825e-02  7.906e-02  -0.484 0.628490    \n",
       "educationMiddle School           3.591e-02  2.904e-01   0.124 0.901590    \n",
       "educationDoctorate               6.763e-02  1.959e-01   0.345 0.729935    \n",
       "educationElementary              3.873e-01  6.277e-01   0.617 0.537203    \n",
       "educationPreschool              -1.728e+01  1.634e+02  -0.106 0.915789    \n",
       "education_num                    2.846e-01  2.373e-02  11.989  < 2e-16 ***\n",
       "maritalMarried                   1.253e+00  1.941e-01   6.454 1.09e-10 ***\n",
       "maritalNot-Married               5.294e-01  9.890e-02   5.353 8.66e-08 ***\n",
       "occupationExec-managerial        7.368e-01  9.106e-02   8.092 5.89e-16 ***\n",
       "occupationNon-technical Service -9.935e-02  8.594e-02  -1.156 0.247642    \n",
       "occupationTechnical Service      3.297e-01  8.614e-02   3.828 0.000129 ***\n",
       "occupationSales                  2.788e-01  9.778e-02   2.852 0.004350 ** \n",
       "occupationFarming-fishing       -1.141e+00  1.624e-01  -7.026 2.12e-12 ***\n",
       "occupationArmed-Forces          -7.101e-01  1.889e+00  -0.376 0.707031    \n",
       "relationshipNot-in-family       -8.911e-01  1.906e-01  -4.674 2.95e-06 ***\n",
       "relationshipOther-relative      -1.130e+00  2.532e-01  -4.462 8.11e-06 ***\n",
       "relationshipOwn-child           -1.840e+00  2.360e-01  -7.797 6.36e-15 ***\n",
       "relationshipUnmarried           -1.074e+00  2.144e-01  -5.008 5.50e-07 ***\n",
       "relationshipWife                 1.409e+00  1.219e-01  11.557  < 2e-16 ***\n",
       "raceAsian-Pac-Islander           6.097e-01  3.188e-01   1.912 0.055844 .  \n",
       "raceBlack                        3.913e-01  2.831e-01   1.382 0.167007    \n",
       "raceOther                        2.053e-02  4.180e-01   0.049 0.960828    \n",
       "raceWhite                        6.662e-01  2.699e-01   2.468 0.013599 *  \n",
       "sexMale                          9.049e-01  9.296e-02   9.734  < 2e-16 ***\n",
       "capital_gain                     3.194e-04  1.262e-05  25.320  < 2e-16 ***\n",
       "capital_loss                     6.600e-04  4.532e-05  14.564  < 2e-16 ***\n",
       "hr_per_week                      2.991e-02  1.961e-03  15.254  < 2e-16 ***\n",
       "regionLatin.and.South.America   -6.567e-01  1.569e-01  -4.186 2.84e-05 ***\n",
       "regionAsia                      -1.158e-01  2.021e-01  -0.573 0.566760    \n",
       "regionOther                     -4.743e-01  1.638e-01  -2.895 0.003789 ** \n",
       "regionEurope                    -9.669e-03  1.540e-01  -0.063 0.949925    \n",
       "---\n",
       "Signif. codes:  0 ‘***’ 0.001 ‘**’ 0.01 ‘*’ 0.05 ‘.’ 0.1 ‘ ’ 1\n",
       "\n",
       "(Dispersion parameter for binomial family taken to be 1)\n",
       "\n",
       "    Null deviance: 24138  on 21502  degrees of freedom\n",
       "Residual deviance: 14186  on 21463  degrees of freedom\n",
       "AIC: 14266\n",
       "\n",
       "Number of Fisher Scoring iterations: 14\n"
      ]
     },
     "metadata": {},
     "output_type": "display_data"
    }
   ],
   "source": [
    "summary(model)"
   ]
  },
  {
   "cell_type": "code",
   "execution_count": 329,
   "metadata": {},
   "outputs": [
    {
     "name": "stdout",
     "output_type": "stream",
     "text": [
      "Start:  AIC=14266.04\n",
      "income ~ age + type_employer + fnlwgt + education + education_num + \n",
      "    marital + occupation + relationship + race + sex + capital_gain + \n",
      "    capital_loss + hr_per_week + region\n",
      "\n"
     ]
    },
    {
     "name": "stderr",
     "output_type": "stream",
     "text": [
      "Warning message:\n",
      "“glm.fit: fitted probabilities numerically 0 or 1 occurred”Warning message:\n",
      "“glm.fit: fitted probabilities numerically 0 or 1 occurred”Warning message:\n",
      "“glm.fit: fitted probabilities numerically 0 or 1 occurred”Warning message:\n",
      "“glm.fit: fitted probabilities numerically 0 or 1 occurred”Warning message:\n",
      "“glm.fit: fitted probabilities numerically 0 or 1 occurred”Warning message:\n",
      "“glm.fit: fitted probabilities numerically 0 or 1 occurred”Warning message:\n",
      "“glm.fit: fitted probabilities numerically 0 or 1 occurred”Warning message:\n",
      "“glm.fit: fitted probabilities numerically 0 or 1 occurred”Warning message:\n",
      "“glm.fit: fitted probabilities numerically 0 or 1 occurred”Warning message:\n",
      "“glm.fit: fitted probabilities numerically 0 or 1 occurred”Warning message:\n",
      "“glm.fit: fitted probabilities numerically 0 or 1 occurred”Warning message:\n",
      "“glm.fit: fitted probabilities numerically 0 or 1 occurred”Warning message:\n",
      "“glm.fit: fitted probabilities numerically 0 or 1 occurred”"
     ]
    },
    {
     "name": "stdout",
     "output_type": "stream",
     "text": [
      "                Df Deviance   AIC\n",
      "<none>                14186 14266\n",
      "- education      7    14204 14270\n",
      "- fnlwgt         1    14194 14272\n",
      "- race           4    14206 14278\n",
      "- region         4    14213 14285\n",
      "- type_employer  4    14224 14296\n",
      "- marital        2    14240 14316\n",
      "- sex            1    14285 14363\n",
      "- education_num  1    14342 14420\n",
      "- age            1    14358 14436\n",
      "- capital_loss   1    14405 14483\n",
      "- hr_per_week    1    14424 14502\n",
      "- relationship   5    14465 14535\n",
      "- occupation     6    14473 14541\n",
      "- capital_gain   1    15457 15535\n"
     ]
    }
   ],
   "source": [
    "# delete variables that are not significantly add to the fit \n",
    "new.step.model = step(model)"
   ]
  },
  {
   "cell_type": "code",
   "execution_count": 330,
   "metadata": {
    "scrolled": true
   },
   "outputs": [
    {
     "data": {
      "text/plain": [
       "\n",
       "Call:\n",
       "glm(formula = income ~ age + type_employer + fnlwgt + education + \n",
       "    education_num + marital + occupation + relationship + race + \n",
       "    sex + capital_gain + capital_loss + hr_per_week + region, \n",
       "    family = binomial(link = \"logit\"), data = train)\n",
       "\n",
       "Deviance Residuals: \n",
       "    Min       1Q   Median       3Q      Max  \n",
       "-5.1398  -0.5293  -0.2064   0.0000   3.5986  \n",
       "\n",
       "Coefficients:\n",
       "                                  Estimate Std. Error z value Pr(>|z|)    \n",
       "(Intercept)                     -8.910e+00  4.882e-01 -18.250  < 2e-16 ***\n",
       "age                              2.589e-02  1.983e-03  13.057  < 2e-16 ***\n",
       "type_employerSelf-emp           -1.046e-01  8.615e-02  -1.214 0.224754    \n",
       "type_employerPrivate             7.655e-02  6.834e-02   1.120 0.262663    \n",
       "type_employerFederal-gov         5.953e-01  1.245e-01   4.783 1.72e-06 ***\n",
       "type_employerUnemployed         -1.382e+01  3.633e+02  -0.038 0.969654    \n",
       "fnlwgt                           5.835e-07  2.072e-07   2.817 0.004854 ** \n",
       "educationHigh School            -1.552e-01  1.162e-01  -1.336 0.181701    \n",
       "educationMasters                 6.558e-02  9.424e-02   0.696 0.486491    \n",
       "educationCollage                -3.825e-02  7.906e-02  -0.484 0.628490    \n",
       "educationMiddle School           3.591e-02  2.904e-01   0.124 0.901590    \n",
       "educationDoctorate               6.763e-02  1.959e-01   0.345 0.729935    \n",
       "educationElementary              3.873e-01  6.277e-01   0.617 0.537203    \n",
       "educationPreschool              -1.728e+01  1.634e+02  -0.106 0.915789    \n",
       "education_num                    2.846e-01  2.373e-02  11.989  < 2e-16 ***\n",
       "maritalMarried                   1.253e+00  1.941e-01   6.454 1.09e-10 ***\n",
       "maritalNot-Married               5.294e-01  9.890e-02   5.353 8.66e-08 ***\n",
       "occupationExec-managerial        7.368e-01  9.106e-02   8.092 5.89e-16 ***\n",
       "occupationNon-technical Service -9.935e-02  8.594e-02  -1.156 0.247642    \n",
       "occupationTechnical Service      3.297e-01  8.614e-02   3.828 0.000129 ***\n",
       "occupationSales                  2.788e-01  9.778e-02   2.852 0.004350 ** \n",
       "occupationFarming-fishing       -1.141e+00  1.624e-01  -7.026 2.12e-12 ***\n",
       "occupationArmed-Forces          -7.101e-01  1.889e+00  -0.376 0.707031    \n",
       "relationshipNot-in-family       -8.911e-01  1.906e-01  -4.674 2.95e-06 ***\n",
       "relationshipOther-relative      -1.130e+00  2.532e-01  -4.462 8.11e-06 ***\n",
       "relationshipOwn-child           -1.840e+00  2.360e-01  -7.797 6.36e-15 ***\n",
       "relationshipUnmarried           -1.074e+00  2.144e-01  -5.008 5.50e-07 ***\n",
       "relationshipWife                 1.409e+00  1.219e-01  11.557  < 2e-16 ***\n",
       "raceAsian-Pac-Islander           6.097e-01  3.188e-01   1.912 0.055844 .  \n",
       "raceBlack                        3.913e-01  2.831e-01   1.382 0.167007    \n",
       "raceOther                        2.053e-02  4.180e-01   0.049 0.960828    \n",
       "raceWhite                        6.662e-01  2.699e-01   2.468 0.013599 *  \n",
       "sexMale                          9.049e-01  9.296e-02   9.734  < 2e-16 ***\n",
       "capital_gain                     3.194e-04  1.262e-05  25.320  < 2e-16 ***\n",
       "capital_loss                     6.600e-04  4.532e-05  14.564  < 2e-16 ***\n",
       "hr_per_week                      2.991e-02  1.961e-03  15.254  < 2e-16 ***\n",
       "regionLatin.and.South.America   -6.567e-01  1.569e-01  -4.186 2.84e-05 ***\n",
       "regionAsia                      -1.158e-01  2.021e-01  -0.573 0.566760    \n",
       "regionOther                     -4.743e-01  1.638e-01  -2.895 0.003789 ** \n",
       "regionEurope                    -9.669e-03  1.540e-01  -0.063 0.949925    \n",
       "---\n",
       "Signif. codes:  0 ‘***’ 0.001 ‘**’ 0.01 ‘*’ 0.05 ‘.’ 0.1 ‘ ’ 1\n",
       "\n",
       "(Dispersion parameter for binomial family taken to be 1)\n",
       "\n",
       "    Null deviance: 24138  on 21502  degrees of freedom\n",
       "Residual deviance: 14186  on 21463  degrees of freedom\n",
       "AIC: 14266\n",
       "\n",
       "Number of Fisher Scoring iterations: 14\n"
      ]
     },
     "metadata": {},
     "output_type": "display_data"
    }
   ],
   "source": [
    "summary(new.step.model)"
   ]
  },
  {
   "cell_type": "markdown",
   "metadata": {},
   "source": [
    "### Test the model"
   ]
  },
  {
   "cell_type": "code",
   "execution_count": 331,
   "metadata": {},
   "outputs": [],
   "source": [
    "test$predicted.income = predict(new.step.model, newdata = test, type = 'response')"
   ]
  },
  {
   "cell_type": "markdown",
   "metadata": {},
   "source": [
    "** create confusion matrix **"
   ]
  },
  {
   "cell_type": "code",
   "execution_count": 341,
   "metadata": {},
   "outputs": [
    {
     "data": {
      "text/plain": [
       "       \n",
       "        FALSE TRUE\n",
       "  <=50K  6398  522\n",
       "  >50K    892 1403"
      ]
     },
     "metadata": {},
     "output_type": "display_data"
    }
   ],
   "source": [
    "table(test$income, test$predicted.income > 0.5)"
   ]
  },
  {
   "cell_type": "code",
   "execution_count": 333,
   "metadata": {},
   "outputs": [
    {
     "data": {
      "text/html": [
       "0.846554530656538"
      ],
      "text/latex": [
       "0.846554530656538"
      ],
      "text/markdown": [
       "0.846554530656538"
      ],
      "text/plain": [
       "[1] 0.8465545"
      ]
     },
     "metadata": {},
     "output_type": "display_data"
    }
   ],
   "source": [
    "# accuracy\n",
    "(6398+1403)/(6398+1403+522+892)"
   ]
  },
  {
   "cell_type": "code",
   "execution_count": 334,
   "metadata": {},
   "outputs": [
    {
     "data": {
      "text/html": [
       "0.924566473988439"
      ],
      "text/latex": [
       "0.924566473988439"
      ],
      "text/markdown": [
       "0.924566473988439"
      ],
      "text/plain": [
       "[1] 0.9245665"
      ]
     },
     "metadata": {},
     "output_type": "display_data"
    }
   ],
   "source": [
    "# recall\n",
    "6398/(6398+522)"
   ]
  },
  {
   "cell_type": "code",
   "execution_count": 335,
   "metadata": {},
   "outputs": [
    {
     "data": {
      "text/html": [
       "0.87764060356653"
      ],
      "text/latex": [
       "0.87764060356653"
      ],
      "text/markdown": [
       "0.87764060356653"
      ],
      "text/plain": [
       "[1] 0.8776406"
      ]
     },
     "metadata": {},
     "output_type": "display_data"
    }
   ],
   "source": [
    "# precision \n",
    "6398/(6398+892)"
   ]
  }
 ],
 "metadata": {
  "kernelspec": {
   "display_name": "R",
   "language": "R",
   "name": "ir"
  },
  "language_info": {
   "codemirror_mode": "r",
   "file_extension": ".r",
   "mimetype": "text/x-r-source",
   "name": "R",
   "pygments_lexer": "r",
   "version": "3.4.2"
  }
 },
 "nbformat": 4,
 "nbformat_minor": 2
}
